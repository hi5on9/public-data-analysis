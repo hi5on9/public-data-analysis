{
 "cells": [
  {
   "cell_type": "code",
   "execution_count": 1,
   "id": "2306d79e",
   "metadata": {},
   "outputs": [],
   "source": [
    "import requests\n",
    "from urllib.request import urlopen\n",
    "from bs4 import BeautifulSoup\n",
    "import numpy as np\n",
    "import re\n",
    "import xml.etree.ElementTree as ET\n",
    "import time\n",
    "from datetime import datetime, timedelta\n",
    "from selenium import webdriver\n",
    "from selenium.webdriver.common.keys import Keys"
   ]
  },
  {
   "cell_type": "markdown",
   "id": "f8055dbb",
   "metadata": {},
   "source": [
    "- 참고 사이트 : https://www.xn--6-v85el2bkz7b4zfiuk.com/view/produce.php?page=1"
   ]
  },
  {
   "cell_type": "code",
   "execution_count": 2,
   "id": "e119dbce",
   "metadata": {},
   "outputs": [],
   "source": [
    "from selenium import webdriver\n",
    "from selenium.webdriver.common.by import By\n",
    "from selenium.webdriver.support.ui import WebDriverWait\n",
    "from selenium.webdriver.support import expected_conditions as EC\n",
    "total = []\n",
    "y = 1\n",
    "chromedriver_dir = r'C:\\Users\\user\\Downloads\\chromedriver_win32\\chromedriver.exe'\n",
    "driver = webdriver.Chrome(chromedriver_dir)\n",
    "for j in range(35):\n",
    "    url = 'https://www.xn--6-v85el2bkz7b4zfiuk.com/view/produce.php?page='+str(y)\n",
    "    driver.get(url)\n",
    "    source = driver.page_source\n",
    "    bs = BeautifulSoup(source, 'lxml')\n",
    "    x = 1\n",
    "    for i in range(10):\n",
    "        try:\n",
    "            WebDriverWait(driver, 20).until(\n",
    "                EC.presence_of_element_located((By.XPATH,'''//*[@id=\"real_contents\"]/div[2]/div[2]/div[2]/div/table/tbody/tr[{0}]/td[4]/a'''.format(x))))\n",
    "            xpath = '''//*[@id=\"real_contents\"]/div[2]/div[2]/div[2]/div/table/tbody/tr[{0}]/td[4]/a'''.format(x)\n",
    "            button = driver.find_element_by_xpath(xpath)\n",
    "            button.click()\n",
    "            time.sleep(5)\n",
    "            source = driver.page_source\n",
    "            bs = BeautifulSoup(source, 'lxml')\n",
    "            entire = bs.find('div', {'class': 'r_con'})\n",
    "            name = entire.find_all('dd')[3].text\n",
    "            addr = entire.find_all('dd')[6].text\n",
    "            total.append([name]+[addr])\n",
    "            #print(name)\n",
    "            #print(addr)\n",
    "            WebDriverWait(driver, 20).until(\n",
    "                EC.presence_of_element_located((By.XPATH,'''//*[@id=\"real_contents\"]/div[2]/div[2]/div[2]/div/div/div[2]/div[2]/a[2]''')))\n",
    "            backpath = '''//*[@id=\"real_contents\"]/div[2]/div[2]/div[2]/div/div/div[2]/div[2]/a[2]'''\n",
    "            button = driver.find_element_by_xpath(backpath)\n",
    "            button.click()\n",
    "            x = x + 1\n",
    "        except:\n",
    "            #파싱되지않는 요인 제외\n",
    "            continue\n",
    "    y = y + 1"
   ]
  },
  {
   "cell_type": "code",
   "execution_count": 17,
   "id": "3b275154",
   "metadata": {},
   "outputs": [
    {
     "data": {
      "text/plain": [
       "320"
      ]
     },
     "execution_count": 17,
     "metadata": {},
     "output_type": "execute_result"
    }
   ],
   "source": [
    "len(total)"
   ]
  },
  {
   "cell_type": "code",
   "execution_count": 19,
   "id": "676c9cf5",
   "metadata": {},
   "outputs": [
    {
     "data": {
      "text/html": [
       "<div>\n",
       "<style scoped>\n",
       "    .dataframe tbody tr th:only-of-type {\n",
       "        vertical-align: middle;\n",
       "    }\n",
       "\n",
       "    .dataframe tbody tr th {\n",
       "        vertical-align: top;\n",
       "    }\n",
       "\n",
       "    .dataframe thead th {\n",
       "        text-align: right;\n",
       "    }\n",
       "</style>\n",
       "<table border=\"1\" class=\"dataframe\">\n",
       "  <thead>\n",
       "    <tr style=\"text-align: right;\">\n",
       "      <th></th>\n",
       "      <th>이름</th>\n",
       "      <th>주소</th>\n",
       "    </tr>\n",
       "  </thead>\n",
       "  <tbody>\n",
       "    <tr>\n",
       "      <th>0</th>\n",
       "      <td>가평 잣한과</td>\n",
       "      <td>가평군 청평면 경춘로 1462</td>\n",
       "    </tr>\n",
       "    <tr>\n",
       "      <th>1</th>\n",
       "      <td>가평 특선주 영농조합</td>\n",
       "      <td>가평군 가평읍 아랫마장길 59</td>\n",
       "    </tr>\n",
       "    <tr>\n",
       "      <th>2</th>\n",
       "      <td>가평사과농원(하가원)</td>\n",
       "      <td>가평군 가평읍 승안리 용추로 256</td>\n",
       "    </tr>\n",
       "    <tr>\n",
       "      <th>3</th>\n",
       "      <td>가평잣냉면</td>\n",
       "      <td>가평군 가평읍 경춘로 2197</td>\n",
       "    </tr>\n",
       "    <tr>\n",
       "      <th>4</th>\n",
       "      <td>가평잣사랑</td>\n",
       "      <td>가평군 북면 멱곡로 202-9</td>\n",
       "    </tr>\n",
       "    <tr>\n",
       "      <th>...</th>\n",
       "      <td>...</td>\n",
       "      <td>...</td>\n",
       "    </tr>\n",
       "    <tr>\n",
       "      <th>315</th>\n",
       "      <td>㈜농업회사법인 상록수된장마을</td>\n",
       "      <td>안산시 단원구 대부황금로 717</td>\n",
       "    </tr>\n",
       "    <tr>\n",
       "      <th>316</th>\n",
       "      <td>담다헌</td>\n",
       "      <td>의정부시 송산로 939번길 98</td>\n",
       "    </tr>\n",
       "    <tr>\n",
       "      <th>317</th>\n",
       "      <td>꽃뫼농원</td>\n",
       "      <td>인천광역시 서구 꽃뫼길 214</td>\n",
       "    </tr>\n",
       "    <tr>\n",
       "      <th>318</th>\n",
       "      <td>수지수아네</td>\n",
       "      <td>인천광역시 서구 검단로 769번길 12 (2층)</td>\n",
       "    </tr>\n",
       "    <tr>\n",
       "      <th>319</th>\n",
       "      <td>농업회사법인 주식회사 자연터</td>\n",
       "      <td>경기도 고양시 일산동구 성현로 400</td>\n",
       "    </tr>\n",
       "  </tbody>\n",
       "</table>\n",
       "<p>320 rows × 2 columns</p>\n",
       "</div>"
      ],
      "text/plain": [
       "                   이름                           주소\n",
       "0              가평 잣한과            가평군 청평면 경춘로 1462 \n",
       "1         가평 특선주 영농조합            가평군 가평읍 아랫마장길 59 \n",
       "2         가평사과농원(하가원)         가평군 가평읍 승안리 용추로 256 \n",
       "3               가평잣냉면            가평군 가평읍 경춘로 2197 \n",
       "4               가평잣사랑            가평군 북면 멱곡로 202-9 \n",
       "..                ...                          ...\n",
       "315   ㈜농업회사법인 상록수된장마을           안산시 단원구 대부황금로 717 \n",
       "316               담다헌           의정부시 송산로 939번길 98 \n",
       "317              꽃뫼농원            인천광역시 서구 꽃뫼길 214 \n",
       "318             수지수아네  인천광역시 서구 검단로 769번길 12 (2층) \n",
       "319  농업회사법인 주식회사 자연터          경기도 고양시 일산동구 성현로 400\n",
       "\n",
       "[320 rows x 2 columns]"
      ]
     },
     "execution_count": 19,
     "metadata": {},
     "output_type": "execute_result"
    }
   ],
   "source": [
    "import pandas as pd\n",
    "df = pd.DataFrame(total,columns=('이름','주소'))\n",
    "\n",
    "df"
   ]
  },
  {
   "cell_type": "code",
   "execution_count": 20,
   "id": "6d3cef5f",
   "metadata": {},
   "outputs": [],
   "source": [
    "df.to_csv(\"./경기도_식품가공장_최종.csv\",encoding=\"cp949\", mode='w', index=False)"
   ]
  },
  {
   "cell_type": "code",
   "execution_count": null,
   "id": "8567b25b",
   "metadata": {},
   "outputs": [],
   "source": []
  }
 ],
 "metadata": {
  "kernelspec": {
   "display_name": "Python 3",
   "language": "python",
   "name": "python3"
  },
  "language_info": {
   "codemirror_mode": {
    "name": "ipython",
    "version": 3
   },
   "file_extension": ".py",
   "mimetype": "text/x-python",
   "name": "python",
   "nbconvert_exporter": "python",
   "pygments_lexer": "ipython3",
   "version": "3.8.8"
  }
 },
 "nbformat": 4,
 "nbformat_minor": 5
}
